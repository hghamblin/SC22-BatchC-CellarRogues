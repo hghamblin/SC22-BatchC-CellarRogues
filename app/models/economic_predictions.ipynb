{
 "cells": [
  {
   "cell_type": "markdown",
   "metadata": {
    "collapsed": false,
    "id": "ic4DOPZplNxL"
   },
   "source": [
    "## Imports & Load Data"
   ]
  },
  {
   "cell_type": "code",
   "execution_count": 145,
   "metadata": {
    "collapsed": false,
    "id": "v9hvwoFwkaFg"
   },
   "outputs": [
   ],
   "source": [
    "import pandas as pd\n",
    "from sklearn.model_selection import train_test_split\n",
    "from xgboost import XGBRegressor, Booster\n",
    "from sklearn.metrics import r2_score, mean_squared_error\n",
    "import pickle"
   ]
  },
  {
   "cell_type": "code",
   "execution_count": 146,
   "metadata": {
    "collapsed": false,
    "id": "HYx2-yZtlSOP"
   },
   "outputs": [
   ],
   "source": [
    "data_folder = \"../../../DS-Notebooks-Summer-2022/data/\"\n",
    "inflation_df = pd.read_csv(data_folder + \"inflation interest unemployment.csv\")\n",
    "gdp_df = pd.read_csv(data_folder + \"gdp_long.csv\", index_col = 0)\n",
    "growth_df = pd.read_csv(data_folder + \"gdp_growth_long.csv\", index_col = 0)"
   ]
  },
  {
   "cell_type": "markdown",
   "metadata": {
    "collapsed": false,
    "id": "EiKp6DYllqlX"
   },
   "source": [
    "## Merge Data"
   ]
  },
  {
   "cell_type": "code",
   "execution_count": 147,
   "metadata": {
    "colab": {
     "base_uri": "https://localhost:8080/",
     "height": 357
    },
    "collapsed": false,
    "id": "I8CzIphHljRa",
    "outputId": "b8f649c5-6985-449b-e8a5-ad48eeee517b"
   },
   "outputs": [
    {
     "data": {
      "text/html": [
       "<div>\n",
       "<style scoped>\n",
       "    .dataframe tbody tr th:only-of-type {\n",
       "        vertical-align: middle;\n",
       "    }\n",
       "\n",
       "    .dataframe tbody tr th {\n",
       "        vertical-align: top;\n",
       "    }\n",
       "\n",
       "    .dataframe thead th {\n",
       "        text-align: right;\n",
       "    }\n",
       "</style>\n",
       "<table border=\"1\" class=\"dataframe\">\n",
       "  <thead>\n",
       "    <tr style=\"text-align: right;\">\n",
       "      <th></th>\n",
       "      <th>country</th>\n",
       "      <th>year</th>\n",
       "      <th>Inflation, consumer prices (annual %)</th>\n",
       "      <th>Inflation, GDP deflator (annual %)</th>\n",
       "      <th>Real interest rate (%)</th>\n",
       "      <th>Deposit interest rate (%)</th>\n",
       "      <th>Lending interest rate (%)</th>\n",
       "      <th>Unemployment, total (% of total labor force) (national estimate)</th>\n",
       "      <th>Unemployment, total (% of total labor force) (modeled ILO estimate)</th>\n",
       "      <th>adminregion</th>\n",
       "      <th>incomeLevel</th>\n",
       "      <th>GDP</th>\n",
       "      <th>GDP Growth</th>\n",
       "      <th>Unemployment</th>\n",
       "    </tr>\n",
       "  </thead>\n",
       "  <tbody>\n",
       "    <tr>\n",
       "      <th>0</th>\n",
       "      <td>Afghanistan</td>\n",
       "      <td>1970</td>\n",
       "      <td>NaN</td>\n",
       "      <td>NaN</td>\n",
       "      <td>NaN</td>\n",
       "      <td>NaN</td>\n",
       "      <td>NaN</td>\n",
       "      <td>NaN</td>\n",
       "      <td>NaN</td>\n",
       "      <td>South Asia</td>\n",
       "      <td>Low income</td>\n",
       "      <td>1.748887e+09</td>\n",
       "      <td>NaN</td>\n",
       "      <td>NaN</td>\n",
       "    </tr>\n",
       "    <tr>\n",
       "      <th>1</th>\n",
       "      <td>Afghanistan</td>\n",
       "      <td>1971</td>\n",
       "      <td>NaN</td>\n",
       "      <td>NaN</td>\n",
       "      <td>NaN</td>\n",
       "      <td>NaN</td>\n",
       "      <td>NaN</td>\n",
       "      <td>NaN</td>\n",
       "      <td>NaN</td>\n",
       "      <td>South Asia</td>\n",
       "      <td>Low income</td>\n",
       "      <td>1.831109e+09</td>\n",
       "      <td>NaN</td>\n",
       "      <td>NaN</td>\n",
       "    </tr>\n",
       "    <tr>\n",
       "      <th>2</th>\n",
       "      <td>Afghanistan</td>\n",
       "      <td>1972</td>\n",
       "      <td>NaN</td>\n",
       "      <td>NaN</td>\n",
       "      <td>NaN</td>\n",
       "      <td>NaN</td>\n",
       "      <td>NaN</td>\n",
       "      <td>NaN</td>\n",
       "      <td>NaN</td>\n",
       "      <td>South Asia</td>\n",
       "      <td>Low income</td>\n",
       "      <td>1.595555e+09</td>\n",
       "      <td>NaN</td>\n",
       "      <td>NaN</td>\n",
       "    </tr>\n",
       "    <tr>\n",
       "      <th>3</th>\n",
       "      <td>Afghanistan</td>\n",
       "      <td>1973</td>\n",
       "      <td>NaN</td>\n",
       "      <td>NaN</td>\n",
       "      <td>NaN</td>\n",
       "      <td>NaN</td>\n",
       "      <td>NaN</td>\n",
       "      <td>NaN</td>\n",
       "      <td>NaN</td>\n",
       "      <td>South Asia</td>\n",
       "      <td>Low income</td>\n",
       "      <td>1.733333e+09</td>\n",
       "      <td>NaN</td>\n",
       "      <td>NaN</td>\n",
       "    </tr>\n",
       "    <tr>\n",
       "      <th>4</th>\n",
       "      <td>Afghanistan</td>\n",
       "      <td>1974</td>\n",
       "      <td>NaN</td>\n",
       "      <td>NaN</td>\n",
       "      <td>NaN</td>\n",
       "      <td>NaN</td>\n",
       "      <td>NaN</td>\n",
       "      <td>NaN</td>\n",
       "      <td>NaN</td>\n",
       "      <td>South Asia</td>\n",
       "      <td>Low income</td>\n",
       "      <td>2.155555e+09</td>\n",
       "      <td>NaN</td>\n",
       "      <td>NaN</td>\n",
       "    </tr>\n",
       "  </tbody>\n",
       "</table>\n",
       "</div>"
      ],
      "text/plain": [
       "       country  year  Inflation, consumer prices (annual %)  \\\n",
       "0  Afghanistan  1970                                    NaN   \n",
       "1  Afghanistan  1971                                    NaN   \n",
       "2  Afghanistan  1972                                    NaN   \n",
       "3  Afghanistan  1973                                    NaN   \n",
       "4  Afghanistan  1974                                    NaN   \n",
       "\n",
       "   Inflation, GDP deflator (annual %)  Real interest rate (%)  \\\n",
       "0                                 NaN                     NaN   \n",
       "1                                 NaN                     NaN   \n",
       "2                                 NaN                     NaN   \n",
       "3                                 NaN                     NaN   \n",
       "4                                 NaN                     NaN   \n",
       "\n",
       "   Deposit interest rate (%)  Lending interest rate (%)  \\\n",
       "0                        NaN                        NaN   \n",
       "1                        NaN                        NaN   \n",
       "2                        NaN                        NaN   \n",
       "3                        NaN                        NaN   \n",
       "4                        NaN                        NaN   \n",
       "\n",
       "   Unemployment, total (% of total labor force) (national estimate)  \\\n",
       "0                                                NaN                  \n",
       "1                                                NaN                  \n",
       "2                                                NaN                  \n",
       "3                                                NaN                  \n",
       "4                                                NaN                  \n",
       "\n",
       "   Unemployment, total (% of total labor force) (modeled ILO estimate)  \\\n",
       "0                                                NaN                     \n",
       "1                                                NaN                     \n",
       "2                                                NaN                     \n",
       "3                                                NaN                     \n",
       "4                                                NaN                     \n",
       "\n",
       "  adminregion incomeLevel           GDP  GDP Growth  Unemployment  \n",
       "0  South Asia  Low income  1.748887e+09         NaN           NaN  \n",
       "1  South Asia  Low income  1.831109e+09         NaN           NaN  \n",
       "2  South Asia  Low income  1.595555e+09         NaN           NaN  \n",
       "3  South Asia  Low income  1.733333e+09         NaN           NaN  \n",
       "4  South Asia  Low income  2.155555e+09         NaN           NaN  "
      ]
     },
     "execution_count": 147,
     "metadata": {
     },
     "output_type": "execute_result"
    }
   ],
   "source": [
    "# merge datasets\n",
    "df = inflation_df.merge(\n",
    "                gdp_df, left_on = ['country', 'year'], right_on = ['Country Name', 'year'], how = 'left').merge(\n",
    "                growth_df, left_on = ['country', 'year'], right_on = ['Country Name', 'year'], how = 'left')\n",
    "\n",
    "# drop unwanted columns\n",
    "df.drop(columns = [\n",
    "        'iso3c', \n",
    "        'iso2c', \n",
    "        'Country Name_x', \n",
    "        'Country Name_y'\n",
    "    ], inplace = True\n",
    ")\n",
    "\n",
    "df[\"Unemployment\"] = df[\"Unemployment, total (% of total labor force) (modeled ILO estimate)\"].fillna(df[\"Unemployment, total (% of total labor force) (national estimate)\"])\n",
    "\n",
    "# preview final dataframe\n",
    "df.head()"
   ]
  },
  {
   "cell_type": "code",
   "execution_count": 148,
   "metadata": {
    "collapsed": false
   },
   "outputs": [
    {
     "name": "stdout",
     "output_type": "stream",
     "text": [
      "Australia country year Inflation, consumer prices (annual %) Inflation, GDP deflator (annual %) Real interest rate (%) Lending interest rate (%) Unemployment, total (% of total labor force) (national estimate) incomeLevel GDP GDP Growth Unemployment\n"
     ]
    },
    {
     "name": "stdout",
     "output_type": "stream",
     "text": [
      "Egypt, Arab Rep. country year Inflation, consumer prices (annual %) Inflation, GDP deflator (annual %) Real interest rate (%) Deposit interest rate (%) Lending interest rate (%) Unemployment, total (% of total labor force) (national estimate) adminregion incomeLevel GDP GDP Growth Unemployment\n"
     ]
    },
    {
     "name": "stdout",
     "output_type": "stream",
     "text": [
      "Jamaica country year Inflation, consumer prices (annual %) Inflation, GDP deflator (annual %) Real interest rate (%) Deposit interest rate (%) Lending interest rate (%) Unemployment, total (% of total labor force) (national estimate) adminregion incomeLevel GDP GDP Growth Unemployment\n"
     ]
    },
    {
     "name": "stdout",
     "output_type": "stream",
     "text": [
      "Philippines country year Inflation, consumer prices (annual %) Inflation, GDP deflator (annual %) Real interest rate (%) Deposit interest rate (%) Lending interest rate (%) Unemployment, total (% of total labor force) (national estimate) adminregion incomeLevel GDP GDP Growth Unemployment\n",
      "Singapore country year Inflation, consumer prices (annual %) Inflation, GDP deflator (annual %) Real interest rate (%) Deposit interest rate (%) Lending interest rate (%) Unemployment, total (% of total labor force) (national estimate) incomeLevel GDP GDP Growth Unemployment\n",
      "Thailand country year Inflation, consumer prices (annual %) Inflation, GDP deflator (annual %) Real interest rate (%) Deposit interest rate (%) Lending interest rate (%) Unemployment, total (% of total labor force) (national estimate) adminregion incomeLevel GDP GDP Growth Unemployment\n",
      "Trinidad and Tobago country year Inflation, consumer prices (annual %) Inflation, GDP deflator (annual %) Real interest rate (%) Lending interest rate (%) Unemployment, total (% of total labor force) (national estimate) incomeLevel GDP GDP Growth Unemployment\n"
     ]
    },
    {
     "name": "stdout",
     "output_type": "stream",
     "text": [
      "United Kingdom country year Inflation, consumer prices (annual %) Inflation, GDP deflator (annual %) Real interest rate (%) Lending interest rate (%) Unemployment, total (% of total labor force) (national estimate) incomeLevel GDP GDP Growth Unemployment\n",
      "United States country year Inflation, consumer prices (annual %) Inflation, GDP deflator (annual %) Real interest rate (%) Lending interest rate (%) Unemployment, total (% of total labor force) (national estimate) incomeLevel GDP GDP Growth Unemployment\n",
      "Uruguay country year Inflation, consumer prices (annual %) Inflation, GDP deflator (annual %) Real interest rate (%) Deposit interest rate (%) Lending interest rate (%) Unemployment, total (% of total labor force) (national estimate) incomeLevel GDP GDP Growth Unemployment\n"
     ]
    }
   ],
   "source": [
    "required_cols = [\n",
    "    \"Inflation, consumer prices (annual %)\",\n",
    "    \"Lending interest rate (%)\",\n",
    "    \"Unemployment\",\n",
    "    \"GDP Growth\"\n",
    "]\n",
    "\n",
    "for country in df['country'].unique():\n",
    "\n",
    "    country_df = df[df['country'] == country]\n",
    "\n",
    "    columns_to_drop = []\n",
    "    for column in country_df.columns:\n",
    "\n",
    "        # calculate percent nan\n",
    "        percent_nan = country_df[column].isna().sum() / len(country_df)\n",
    "\n",
    "        # drop column if too many nans\n",
    "        if percent_nan > 0.2 and column not in columns_to_drop:\n",
    "            columns_to_drop.append(column)\n",
    "\n",
    "    country_nona_df = country_df.drop(columns_to_drop, axis = 1)\n",
    "\n",
    "    is_complete = True\n",
    "    for col in required_cols:\n",
    "        if (country_nona_df is None) or (col not in country_nona_df.columns):\n",
    "            is_complete = False\n",
    "\n",
    "    if is_complete:\n",
    "        print(country, ' '.join(country_nona_df.columns))"
   ]
  },
  {
   "cell_type": "markdown",
   "metadata": {
    "collapsed": false,
    "id": "8z5U7Yygque7"
   },
   "source": [
    "## ML Prep\n",
    "\n"
   ]
  },
  {
   "cell_type": "code",
   "execution_count": 149,
   "metadata": {
    "colab": {
     "base_uri": "https://localhost:8080/"
    },
    "collapsed": false,
    "id": "LQ8G9IZWoCKO",
    "outputId": "45b77ca8-d6f9-479e-d054-fdbc4db3e90d"
   },
   "outputs": [
    {
     "name": "stdout",
     "output_type": "stream",
     "text": [
      "44\n"
     ]
    }
   ],
   "source": [
    "# filter dataframe for specified country and columns\n",
    "country = \"United Kingdom\"\n",
    "country_df = df[df['country'] == country][[\"Inflation, consumer prices (annual %)\", \"Lending interest rate (%)\", \"Unemployment\", \"GDP Growth\"]]\n",
    "\n",
    "country_df.dropna(inplace = True)\n",
    "\n",
    "print(len(country_df))"
   ]
  },
  {
   "cell_type": "code",
   "execution_count": 150,
   "metadata": {
    "collapsed": false,
    "id": "kfK7IUmlpvVW"
   },
   "outputs": [
   ],
   "source": [
    "# define features\n",
    "X = country_df.drop(['Inflation, consumer prices (annual %)'], axis = 1)\n",
    "\n",
    "# define target\n",
    "y = country_df['Inflation, consumer prices (annual %)']\n",
    "\n",
    "# train-test split\n",
    "X_test, X_train, y_test, y_train = train_test_split(X, y, test_size=0.2, random_state=42)"
   ]
  },
  {
   "cell_type": "markdown",
   "metadata": {
    "collapsed": false,
    "id": "TtTfIv8lqydX"
   },
   "source": [
    "## Training the Model"
   ]
  },
  {
   "cell_type": "code",
   "execution_count": 151,
   "metadata": {
    "colab": {
     "base_uri": "https://localhost:8080/"
    },
    "collapsed": false,
    "id": "JP0hmKldqpQX",
    "outputId": "1a5b364c-2715-4c69-9035-004c5209244f"
   },
   "outputs": [
    {
     "name": "stderr",
     "output_type": "stream",
     "text": [
      "/projects/af5ece45-9c3e-4bbf-96ab-ee48f7063c46/miniconda3/envs/ds_env/lib/python3.8/site-packages/xgboost/data.py:250: FutureWarning: pandas.Int64Index is deprecated and will be removed from pandas in a future version. Use pandas.Index with the appropriate dtype instead.\n",
      "  elif isinstance(data.columns, (pd.Int64Index, pd.RangeIndex)):\n"
     ]
    },
    {
     "data": {
      "text/html": [
       "<style>#sk-container-id-10 {color: black;background-color: white;}#sk-container-id-10 pre{padding: 0;}#sk-container-id-10 div.sk-toggleable {background-color: white;}#sk-container-id-10 label.sk-toggleable__label {cursor: pointer;display: block;width: 100%;margin-bottom: 0;padding: 0.3em;box-sizing: border-box;text-align: center;}#sk-container-id-10 label.sk-toggleable__label-arrow:before {content: \"▸\";float: left;margin-right: 0.25em;color: #696969;}#sk-container-id-10 label.sk-toggleable__label-arrow:hover:before {color: black;}#sk-container-id-10 div.sk-estimator:hover label.sk-toggleable__label-arrow:before {color: black;}#sk-container-id-10 div.sk-toggleable__content {max-height: 0;max-width: 0;overflow: hidden;text-align: left;background-color: #f0f8ff;}#sk-container-id-10 div.sk-toggleable__content pre {margin: 0.2em;color: black;border-radius: 0.25em;background-color: #f0f8ff;}#sk-container-id-10 input.sk-toggleable__control:checked~div.sk-toggleable__content {max-height: 200px;max-width: 100%;overflow: auto;}#sk-container-id-10 input.sk-toggleable__control:checked~label.sk-toggleable__label-arrow:before {content: \"▾\";}#sk-container-id-10 div.sk-estimator input.sk-toggleable__control:checked~label.sk-toggleable__label {background-color: #d4ebff;}#sk-container-id-10 div.sk-label input.sk-toggleable__control:checked~label.sk-toggleable__label {background-color: #d4ebff;}#sk-container-id-10 input.sk-hidden--visually {border: 0;clip: rect(1px 1px 1px 1px);clip: rect(1px, 1px, 1px, 1px);height: 1px;margin: -1px;overflow: hidden;padding: 0;position: absolute;width: 1px;}#sk-container-id-10 div.sk-estimator {font-family: monospace;background-color: #f0f8ff;border: 1px dotted black;border-radius: 0.25em;box-sizing: border-box;margin-bottom: 0.5em;}#sk-container-id-10 div.sk-estimator:hover {background-color: #d4ebff;}#sk-container-id-10 div.sk-parallel-item::after {content: \"\";width: 100%;border-bottom: 1px solid gray;flex-grow: 1;}#sk-container-id-10 div.sk-label:hover label.sk-toggleable__label {background-color: #d4ebff;}#sk-container-id-10 div.sk-serial::before {content: \"\";position: absolute;border-left: 1px solid gray;box-sizing: border-box;top: 0;bottom: 0;left: 50%;z-index: 0;}#sk-container-id-10 div.sk-serial {display: flex;flex-direction: column;align-items: center;background-color: white;padding-right: 0.2em;padding-left: 0.2em;position: relative;}#sk-container-id-10 div.sk-item {position: relative;z-index: 1;}#sk-container-id-10 div.sk-parallel {display: flex;align-items: stretch;justify-content: center;background-color: white;position: relative;}#sk-container-id-10 div.sk-item::before, #sk-container-id-10 div.sk-parallel-item::before {content: \"\";position: absolute;border-left: 1px solid gray;box-sizing: border-box;top: 0;bottom: 0;left: 50%;z-index: -1;}#sk-container-id-10 div.sk-parallel-item {display: flex;flex-direction: column;z-index: 1;position: relative;background-color: white;}#sk-container-id-10 div.sk-parallel-item:first-child::after {align-self: flex-end;width: 50%;}#sk-container-id-10 div.sk-parallel-item:last-child::after {align-self: flex-start;width: 50%;}#sk-container-id-10 div.sk-parallel-item:only-child::after {width: 0;}#sk-container-id-10 div.sk-dashed-wrapped {border: 1px dashed gray;margin: 0 0.4em 0.5em 0.4em;box-sizing: border-box;padding-bottom: 0.4em;background-color: white;}#sk-container-id-10 div.sk-label label {font-family: monospace;font-weight: bold;display: inline-block;line-height: 1.2em;}#sk-container-id-10 div.sk-label-container {text-align: center;}#sk-container-id-10 div.sk-container {/* jupyter's `normalize.less` sets `[hidden] { display: none; }` but bootstrap.min.css set `[hidden] { display: none !important; }` so we also need the `!important` here to be able to override the default hidden behavior on the sphinx rendered scikit-learn.org. See: https://github.com/scikit-learn/scikit-learn/issues/21755 */display: inline-block !important;position: relative;}#sk-container-id-10 div.sk-text-repr-fallback {display: none;}</style><div id=\"sk-container-id-10\" class=\"sk-top-container\"><div class=\"sk-text-repr-fallback\"><pre>XGBRegressor(base_score=0.5, booster=&#x27;gbtree&#x27;, colsample_bylevel=1,\n",
       "             colsample_bynode=1, colsample_bytree=1, enable_categorical=False,\n",
       "             gamma=0, gpu_id=-1, importance_type=None,\n",
       "             interaction_constraints=&#x27;&#x27;, learning_rate=0.300000012,\n",
       "             max_delta_step=0, max_depth=6, min_child_weight=1, missing=nan,\n",
       "             monotone_constraints=&#x27;()&#x27;, n_estimators=100, n_jobs=2,\n",
       "             num_parallel_tree=1, predictor=&#x27;auto&#x27;, random_state=0, reg_alpha=0,\n",
       "             reg_lambda=1, scale_pos_weight=1, subsample=1, tree_method=&#x27;exact&#x27;,\n",
       "             validate_parameters=1, verbosity=None)</pre><b>In a Jupyter environment, please rerun this cell to show the HTML representation or trust the notebook. <br />On GitHub, the HTML representation is unable to render, please try loading this page with nbviewer.org.</b></div><div class=\"sk-container\" hidden><div class=\"sk-item\"><div class=\"sk-estimator sk-toggleable\"><input class=\"sk-toggleable__control sk-hidden--visually\" id=\"sk-estimator-id-10\" type=\"checkbox\" checked><label for=\"sk-estimator-id-10\" class=\"sk-toggleable__label sk-toggleable__label-arrow\">XGBRegressor</label><div class=\"sk-toggleable__content\"><pre>XGBRegressor(base_score=0.5, booster=&#x27;gbtree&#x27;, colsample_bylevel=1,\n",
       "             colsample_bynode=1, colsample_bytree=1, enable_categorical=False,\n",
       "             gamma=0, gpu_id=-1, importance_type=None,\n",
       "             interaction_constraints=&#x27;&#x27;, learning_rate=0.300000012,\n",
       "             max_delta_step=0, max_depth=6, min_child_weight=1, missing=nan,\n",
       "             monotone_constraints=&#x27;()&#x27;, n_estimators=100, n_jobs=2,\n",
       "             num_parallel_tree=1, predictor=&#x27;auto&#x27;, random_state=0, reg_alpha=0,\n",
       "             reg_lambda=1, scale_pos_weight=1, subsample=1, tree_method=&#x27;exact&#x27;,\n",
       "             validate_parameters=1, verbosity=None)</pre></div></div></div></div></div>"
      ],
      "text/plain": [
       "XGBRegressor(base_score=0.5, booster='gbtree', colsample_bylevel=1,\n",
       "             colsample_bynode=1, colsample_bytree=1, enable_categorical=False,\n",
       "             gamma=0, gpu_id=-1, importance_type=None,\n",
       "             interaction_constraints='', learning_rate=0.300000012,\n",
       "             max_delta_step=0, max_depth=6, min_child_weight=1, missing=nan,\n",
       "             monotone_constraints='()', n_estimators=100, n_jobs=2,\n",
       "             num_parallel_tree=1, predictor='auto', random_state=0, reg_alpha=0,\n",
       "             reg_lambda=1, scale_pos_weight=1, subsample=1, tree_method='exact',\n",
       "             validate_parameters=1, verbosity=None)"
      ]
     },
     "execution_count": 151,
     "metadata": {
     },
     "output_type": "execute_result"
    }
   ],
   "source": [
    " # train model\n",
    "model = XGBRegressor()\n",
    "model.fit(X_train, y_train)"
   ]
  },
  {
   "cell_type": "code",
   "execution_count": 152,
   "metadata": {
    "colab": {
     "base_uri": "https://localhost:8080/"
    },
    "collapsed": false,
    "id": "JR9hz4uxrUOo",
    "outputId": "1e24209b-5b7e-41b3-a3c4-adfff189c6d7"
   },
   "outputs": [
    {
     "name": "stdout",
     "output_type": "stream",
     "text": [
      "R-squared =  0.2580873455209908\n",
      "Mean Error =  4.1477535966746055\n"
     ]
    }
   ],
   "source": [
    "# get predictions\n",
    "X_pred = model.predict(X_test)\n",
    "\n",
    "# calculate metrics\n",
    "r2 = r2_score(y_test, X_pred)\n",
    "mean_error = mean_squared_error(y_test, X_pred, squared=False)\n",
    "\n",
    "# print report\n",
    "print('R-squared = ', r2)\n",
    "print('Mean Error = ', mean_error)"
   ]
  },
  {
   "cell_type": "code",
   "execution_count": 153,
   "metadata": {
    "collapsed": false,
    "id": "djP9mvi5slNG"
   },
   "outputs": [
   ],
   "source": [
    "# save model\n",
    "model.save_model(f'{country.lower()}.json')"
   ]
  },
  {
   "cell_type": "code",
   "execution_count": 154,
   "metadata": {
    "collapsed": false,
    "id": "QSpl8m7AFVsS"
   },
   "outputs": [
    {
     "name": "stdout",
     "output_type": "stream",
     "text": [
      "Index(['Lending interest rate (%)', 'Unemployment', 'GDP Growth'], dtype='object')\n"
     ]
    }
   ],
   "source": [
    "print(X.columns)"
   ]
  }
 ],
 "metadata": {
  "colab": {
   "collapsed_sections": [
   ],
   "name": "economic-predictions.ipynb",
   "provenance": [
   ]
  },
  "kernelspec": {
   "display_name": "Python (ds_env)",
   "language": "python",
   "metadata": {
    "debugger": true
   },
   "name": "ds_env",
   "resource_dir": "/projects/af5ece45-9c3e-4bbf-96ab-ee48f7063c46/.local/share/jupyter/kernels/ds_env"
  },
  "language_info": {
   "codemirror_mode": {
    "name": "ipython",
    "version": 3
   },
   "file_extension": ".py",
   "mimetype": "text/x-python",
   "name": "python",
   "nbconvert_exporter": "python",
   "pygments_lexer": "ipython3",
   "version": "3.8.13"
  }
 },
 "nbformat": 4,
 "nbformat_minor": 4
}